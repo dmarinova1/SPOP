{
 "cells": [
  {
   "cell_type": "code",
   "execution_count": 1,
   "metadata": {
    "ExecuteTime": {
     "end_time": "2019-11-08T08:32:27.875449Z",
     "start_time": "2019-11-08T08:32:27.483997Z"
    }
   },
   "outputs": [
    {
     "name": "stdout",
     "output_type": "stream",
     "text": [
      "59\n"
     ]
    }
   ],
   "source": [
    "import numpy as np\n",
    "import pandas as pd\n",
    "import matplotlib.pyplot as plt\n",
    "\n",
    "#load data set using pandas\n",
    "\n",
    "dogs = pd.read_csv('dog-data.csv')\n",
    "\n",
    "print(len(dogs))"
   ]
  },
  {
   "cell_type": "code",
   "execution_count": 2,
   "metadata": {
    "ExecuteTime": {
     "end_time": "2019-11-08T08:32:28.015010Z",
     "start_time": "2019-11-08T08:32:28.011127Z"
    }
   },
   "outputs": [
    {
     "name": "stdout",
     "output_type": "stream",
     "text": [
      "(59, 9)\n"
     ]
    }
   ],
   "source": [
    "#outputs the number of rows and columns showing that we have 59 dog breeds and 9 features in the dataset\n",
    "print(dogs.shape)"
   ]
  },
  {
   "cell_type": "code",
   "execution_count": 3,
   "metadata": {
    "ExecuteTime": {
     "end_time": "2019-11-08T08:32:28.841780Z",
     "start_time": "2019-11-08T08:32:28.828464Z"
    }
   },
   "outputs": [
    {
     "data": {
      "text/html": [
       "<div>\n",
       "<style scoped>\n",
       "    .dataframe tbody tr th:only-of-type {\n",
       "        vertical-align: middle;\n",
       "    }\n",
       "\n",
       "    .dataframe tbody tr th {\n",
       "        vertical-align: top;\n",
       "    }\n",
       "\n",
       "    .dataframe thead th {\n",
       "        text-align: right;\n",
       "    }\n",
       "</style>\n",
       "<table border=\"1\" class=\"dataframe\">\n",
       "  <thead>\n",
       "    <tr style=\"text-align: right;\">\n",
       "      <th></th>\n",
       "      <th>dog_label</th>\n",
       "      <th>dog_size</th>\n",
       "      <th>dog_breed</th>\n",
       "      <th>height_inch</th>\n",
       "      <th>weight_lbs</th>\n",
       "      <th>obedience</th>\n",
       "      <th>lifespan_years</th>\n",
       "      <th>body_length_inch</th>\n",
       "      <th>neck_size_inch</th>\n",
       "    </tr>\n",
       "  </thead>\n",
       "  <tbody>\n",
       "    <tr>\n",
       "      <td>0</td>\n",
       "      <td>1</td>\n",
       "      <td>small_dog</td>\n",
       "      <td>french_bulldog</td>\n",
       "      <td>10.5</td>\n",
       "      <td>18.0</td>\n",
       "      <td>30%</td>\n",
       "      <td>11</td>\n",
       "      <td>15.0</td>\n",
       "      <td>16.0</td>\n",
       "    </tr>\n",
       "    <tr>\n",
       "      <td>1</td>\n",
       "      <td>1</td>\n",
       "      <td>small_dog</td>\n",
       "      <td>french_bulldog</td>\n",
       "      <td>11.5</td>\n",
       "      <td>21.0</td>\n",
       "      <td>30%</td>\n",
       "      <td>12</td>\n",
       "      <td>15.5</td>\n",
       "      <td>16.5</td>\n",
       "    </tr>\n",
       "    <tr>\n",
       "      <td>2</td>\n",
       "      <td>1</td>\n",
       "      <td>small_dog</td>\n",
       "      <td>french_bulldog</td>\n",
       "      <td>12.0</td>\n",
       "      <td>25.8</td>\n",
       "      <td>30%</td>\n",
       "      <td>13</td>\n",
       "      <td>16.0</td>\n",
       "      <td>17.0</td>\n",
       "    </tr>\n",
       "    <tr>\n",
       "      <td>3</td>\n",
       "      <td>1</td>\n",
       "      <td>small_dog</td>\n",
       "      <td>french_bulldog</td>\n",
       "      <td>12.1</td>\n",
       "      <td>27.0</td>\n",
       "      <td>30%</td>\n",
       "      <td>14</td>\n",
       "      <td>17.0</td>\n",
       "      <td>15.5</td>\n",
       "    </tr>\n",
       "    <tr>\n",
       "      <td>4</td>\n",
       "      <td>1</td>\n",
       "      <td>small_dog</td>\n",
       "      <td>poodle</td>\n",
       "      <td>10.0</td>\n",
       "      <td>19.0</td>\n",
       "      <td>95%</td>\n",
       "      <td>12</td>\n",
       "      <td>12.0</td>\n",
       "      <td>18.0</td>\n",
       "    </tr>\n",
       "  </tbody>\n",
       "</table>\n",
       "</div>"
      ],
      "text/plain": [
       "   dog_label   dog_size       dog_breed  height_inch  weight_lbs obedience  \\\n",
       "0          1  small_dog  french_bulldog         10.5        18.0       30%   \n",
       "1          1  small_dog  french_bulldog         11.5        21.0       30%   \n",
       "2          1  small_dog  french_bulldog         12.0        25.8       30%   \n",
       "3          1  small_dog  french_bulldog         12.1        27.0       30%   \n",
       "4          1  small_dog          poodle         10.0        19.0       95%   \n",
       "\n",
       "   lifespan_years  body_length_inch  neck_size_inch  \n",
       "0              11              15.0            16.0  \n",
       "1              12              15.5            16.5  \n",
       "2              13              16.0            17.0  \n",
       "3              14              17.0            15.5  \n",
       "4              12              12.0            18.0  "
      ]
     },
     "execution_count": 3,
     "metadata": {},
     "output_type": "execute_result"
    }
   ],
   "source": [
    "#print the first 5 rows of the dataset\n",
    "dogs.head()"
   ]
  },
  {
   "cell_type": "code",
   "execution_count": 4,
   "metadata": {
    "ExecuteTime": {
     "end_time": "2019-11-08T08:32:31.629342Z",
     "start_time": "2019-11-08T08:32:31.625314Z"
    }
   },
   "outputs": [
    {
     "name": "stdout",
     "output_type": "stream",
     "text": [
      "['small_dog' 'medium_dog' 'big_dog']\n"
     ]
    }
   ],
   "source": [
    "#we have 3 dog size types\n",
    "print(dogs['dog_size'].unique())"
   ]
  },
  {
   "cell_type": "code",
   "execution_count": 5,
   "metadata": {
    "ExecuteTime": {
     "end_time": "2019-11-08T08:32:32.379229Z",
     "start_time": "2019-11-08T08:32:32.373847Z"
    }
   },
   "outputs": [
    {
     "data": {
      "text/plain": [
       "{1: 'french_bulldog', 2: 'poodle', 3: 'chihuahua'}"
      ]
     },
     "execution_count": 5,
     "metadata": {},
     "output_type": "execute_result"
    }
   ],
   "source": [
    "# create a mapping from dog label value to dog breed to make results easier to interpret\n",
    "map_dog_breed = dict(zip(dogs.dog_label.unique(), dogs.dog_breed.unique()))\n",
    "map_dog_breed"
   ]
  },
  {
   "cell_type": "code",
   "execution_count": 6,
   "metadata": {
    "ExecuteTime": {
     "end_time": "2019-11-08T08:32:34.647593Z",
     "start_time": "2019-11-08T08:32:34.643768Z"
    }
   },
   "outputs": [
    {
     "name": "stdout",
     "output_type": "stream",
     "text": [
      "['french_bulldog' 'poodle' 'chihuahua' 'pomeranian' 'siberian_husky'\n",
      " 'dalmatian' 'boxer' 'great_dane' 'saint_bernard' 'mastiff']\n"
     ]
    }
   ],
   "source": [
    "#output the dog breeds\n",
    "print(dogs['dog_breed'].unique())"
   ]
  },
  {
   "cell_type": "code",
   "execution_count": 7,
   "metadata": {
    "ExecuteTime": {
     "end_time": "2019-11-08T08:32:35.405398Z",
     "start_time": "2019-11-08T08:32:35.400746Z"
    }
   },
   "outputs": [
    {
     "name": "stdout",
     "output_type": "stream",
     "text": [
      "dog_size\n",
      "big_dog       22\n",
      "medium_dog    19\n",
      "small_dog     18\n",
      "dtype: int64\n"
     ]
    }
   ],
   "source": [
    "#print the number of each breed inside dog_size as small-medium-big dog\n",
    "#we note that the data is more or less balanced\n",
    "\n",
    "print(dogs.groupby('dog_size').size())"
   ]
  },
  {
   "cell_type": "code",
   "execution_count": 8,
   "metadata": {
    "ExecuteTime": {
     "end_time": "2019-11-08T08:32:37.628955Z",
     "start_time": "2019-11-08T08:32:37.304476Z"
    },
    "scrolled": true
   },
   "outputs": [
    {
     "data": {
      "image/png": "[encoded data removed]",
      "text/plain": [
       "<Figure size 432x288 with 1 Axes>"
      ]
     },
     "metadata": {
      "needs_background": "light"
     },
     "output_type": "display_data"
    }
   ],
   "source": [
    "#seaborn is a library for statistical graphics producing informative plots\n",
    "#visualize distribution of data to understand and explore it\n",
    "\n",
    "import seaborn as sns\n",
    "sns.countplot(dogs['dog_size'],label=\"Count\")\n",
    "plt.show()"
   ]
  },
  {
   "cell_type": "code",
   "execution_count": 9,
   "metadata": {
    "ExecuteTime": {
     "end_time": "2019-11-08T08:32:39.638347Z",
     "start_time": "2019-11-08T08:32:39.526369Z"
    }
   },
   "outputs": [
    {
     "data": {
      "image/png": "[encoded data removed]",
      "text/plain": [
       "<Figure size 432x288 with 1 Axes>"
      ]
     },
     "metadata": {
      "needs_background": "light"
     },
     "output_type": "display_data"
    }
   ],
   "source": [
    "#visualize an informative plot on distribution of dog breeds\n",
    "sns.set_context(\"paper\", font_scale=1.4) #set the plotting context parameters but to be modified since the dog breeds are not readable\n",
    "sns.countplot(dogs['dog_breed'],label=\"Count\")\n",
    "plt.show()"
   ]
  },
  {
   "cell_type": "code",
   "execution_count": 10,
   "metadata": {
    "ExecuteTime": {
     "end_time": "2019-11-08T08:32:41.930528Z",
     "start_time": "2019-11-08T08:32:41.925643Z"
    }
   },
   "outputs": [],
   "source": [
    "#column 'obedience' contains numeric values, but is formatted as object.Therefore, we need to convert it to numeric value (float).\n",
    "#string method used to strip the right trailing percent sign (%).\n",
    "#astype() used to convert to type float.\n",
    "#assign new values back to the dogs dataframe, column 'obedience'\n",
    "dogs['obedience'] = dogs['obedience'].str.rstrip('%').astype('float')"
   ]
  },
  {
   "cell_type": "code",
   "execution_count": 11,
   "metadata": {
    "ExecuteTime": {
     "end_time": "2019-11-08T08:32:42.514943Z",
     "start_time": "2019-11-08T08:32:42.503785Z"
    }
   },
   "outputs": [
    {
     "data": {
      "text/html": [
       "<div>\n",
       "<style scoped>\n",
       "    .dataframe tbody tr th:only-of-type {\n",
       "        vertical-align: middle;\n",
       "    }\n",
       "\n",
       "    .dataframe tbody tr th {\n",
       "        vertical-align: top;\n",
       "    }\n",
       "\n",
       "    .dataframe thead th {\n",
       "        text-align: right;\n",
       "    }\n",
       "</style>\n",
       "<table border=\"1\" class=\"dataframe\">\n",
       "  <thead>\n",
       "    <tr style=\"text-align: right;\">\n",
       "      <th></th>\n",
       "      <th>dog_label</th>\n",
       "      <th>dog_size</th>\n",
       "      <th>dog_breed</th>\n",
       "      <th>height_inch</th>\n",
       "      <th>weight_lbs</th>\n",
       "      <th>obedience</th>\n",
       "      <th>lifespan_years</th>\n",
       "      <th>body_length_inch</th>\n",
       "      <th>neck_size_inch</th>\n",
       "    </tr>\n",
       "  </thead>\n",
       "  <tbody>\n",
       "    <tr>\n",
       "      <td>0</td>\n",
       "      <td>1</td>\n",
       "      <td>small_dog</td>\n",
       "      <td>french_bulldog</td>\n",
       "      <td>10.5</td>\n",
       "      <td>18.0</td>\n",
       "      <td>30.0</td>\n",
       "      <td>11</td>\n",
       "      <td>15.0</td>\n",
       "      <td>16.0</td>\n",
       "    </tr>\n",
       "    <tr>\n",
       "      <td>1</td>\n",
       "      <td>1</td>\n",
       "      <td>small_dog</td>\n",
       "      <td>french_bulldog</td>\n",
       "      <td>11.5</td>\n",
       "      <td>21.0</td>\n",
       "      <td>30.0</td>\n",
       "      <td>12</td>\n",
       "      <td>15.5</td>\n",
       "      <td>16.5</td>\n",
       "    </tr>\n",
       "    <tr>\n",
       "      <td>2</td>\n",
       "      <td>1</td>\n",
       "      <td>small_dog</td>\n",
       "      <td>french_bulldog</td>\n",
       "      <td>12.0</td>\n",
       "      <td>25.8</td>\n",
       "      <td>30.0</td>\n",
       "      <td>13</td>\n",
       "      <td>16.0</td>\n",
       "      <td>17.0</td>\n",
       "    </tr>\n",
       "    <tr>\n",
       "      <td>3</td>\n",
       "      <td>1</td>\n",
       "      <td>small_dog</td>\n",
       "      <td>french_bulldog</td>\n",
       "      <td>12.1</td>\n",
       "      <td>27.0</td>\n",
       "      <td>30.0</td>\n",
       "      <td>14</td>\n",
       "      <td>17.0</td>\n",
       "      <td>15.5</td>\n",
       "    </tr>\n",
       "    <tr>\n",
       "      <td>4</td>\n",
       "      <td>1</td>\n",
       "      <td>small_dog</td>\n",
       "      <td>poodle</td>\n",
       "      <td>10.0</td>\n",
       "      <td>19.0</td>\n",
       "      <td>95.0</td>\n",
       "      <td>12</td>\n",
       "      <td>12.0</td>\n",
       "      <td>18.0</td>\n",
       "    </tr>\n",
       "  </tbody>\n",
       "</table>\n",
       "</div>"
      ],
      "text/plain": [
       "   dog_label   dog_size       dog_breed  height_inch  weight_lbs  obedience  \\\n",
       "0          1  small_dog  french_bulldog         10.5        18.0       30.0   \n",
       "1          1  small_dog  french_bulldog         11.5        21.0       30.0   \n",
       "2          1  small_dog  french_bulldog         12.0        25.8       30.0   \n",
       "3          1  small_dog  french_bulldog         12.1        27.0       30.0   \n",
       "4          1  small_dog          poodle         10.0        19.0       95.0   \n",
       "\n",
       "   lifespan_years  body_length_inch  neck_size_inch  \n",
       "0              11              15.0            16.0  \n",
       "1              12              15.5            16.5  \n",
       "2              13              16.0            17.0  \n",
       "3              14              17.0            15.5  \n",
       "4              12              12.0            18.0  "
      ]
     },
     "execution_count": 11,
     "metadata": {},
     "output_type": "execute_result"
    }
   ],
   "source": [
    "#display first 5 rows of dataset to check if percent sign has been removed.\n",
    "dogs.head()"
   ]
  },
  {
   "cell_type": "code",
   "execution_count": 12,
   "metadata": {
    "ExecuteTime": {
     "end_time": "2019-11-08T08:33:02.000450Z",
     "start_time": "2019-11-08T08:33:01.997162Z"
    }
   },
   "outputs": [],
   "source": [
    "#specify the feature columns\n",
    "feature_names = ['height_inch', 'weight_lbs', 'body_length_inch','neck_size_inch','lifespan_years', 'obedience']"
   ]
  },
  {
   "cell_type": "code",
   "execution_count": 13,
   "metadata": {
    "ExecuteTime": {
     "end_time": "2019-11-08T08:33:03.083590Z",
     "start_time": "2019-11-08T08:33:03.078976Z"
    }
   },
   "outputs": [],
   "source": [
    "#assign to X the feature columns and to y the label column from the dataset \"dogs\"\n",
    "X = dogs[feature_names]\n",
    "y = dogs['dog_label']"
   ]
  },
  {
   "cell_type": "code",
   "execution_count": 14,
   "metadata": {
    "ExecuteTime": {
     "end_time": "2019-11-08T08:33:04.117318Z",
     "start_time": "2019-11-08T08:33:03.918630Z"
    }
   },
   "outputs": [],
   "source": [
    "from sklearn.model_selection import train_test_split"
   ]
  },
  {
   "cell_type": "code",
   "execution_count": 15,
   "metadata": {
    "ExecuteTime": {
     "end_time": "2019-11-08T08:33:04.744165Z",
     "start_time": "2019-11-08T08:33:04.730699Z"
    }
   },
   "outputs": [
    {
     "name": "stdout",
     "output_type": "stream",
     "text": [
      "[[1.         0.83156297 0.68888889 0.62770563 0.28571429 0.35714286]\n",
      " [0.78066914 0.84623166 0.82222222 0.86580087 0.14285714 0.07142857]\n",
      " [0.33457249 0.08598887 0.11111111 0.17316017 0.64285714 1.        ]\n",
      " [0.22304833 0.00657562 0.08888889 0.         0.5        0.85714286]\n",
      " [0.65799257 0.33990895 0.32222222 0.41125541 0.35714286 0.35714286]\n",
      " [0.81784387 0.95042994 0.84444444 0.88744589 0.21428571 0.07142857]\n",
      " [0.53159851 0.31158321 0.44444444 0.32467532 0.42857143 0.64285714]\n",
      " [0.96654275 0.62974203 0.64444444 0.56277056 0.14285714 0.35714286]\n",
      " [0.84758364 0.96256955 0.95555556 1.         0.28571429 0.        ]\n",
      " [0.5204461  0.18816388 0.51111111 0.36796537 0.42857143 0.35714286]\n",
      " [0.79182156 0.95042994 0.88888889 0.90909091 0.21428571 0.        ]\n",
      " [0.63197026 0.33586242 0.47777778 0.2987013  0.5        0.64285714]\n",
      " [0.2267658  0.01365706 0.11111111 0.08658009 0.57142857 0.85714286]\n",
      " [0.27881041 0.08851796 0.12222222 0.19480519 0.5        1.        ]\n",
      " [0.62825279 0.32979262 0.3        0.36796537 0.28571429 0.35714286]\n",
      " [0.22304833 0.02073849 0.12222222 0.07359307 0.64285714 0.85714286]\n",
      " [0.79925651 0.92261002 0.86666667 0.90909091 0.28571429 0.07142857]\n",
      " [0.59479554 0.24127466 0.55555556 0.41125541 0.57142857 0.35714286]\n",
      " [0.81784387 0.64592817 0.88888889 0.81818182 0.14285714 0.07142857]\n",
      " [0.         0.         0.02222222 0.04329004 0.42857143 0.07142857]\n",
      " [0.20446097 0.00455235 0.06666667 0.06493506 0.42857143 0.85714286]\n",
      " [0.5204461  0.23975721 0.46666667 0.28138528 0.35714286 0.64285714]\n",
      " [0.21561338 0.02124431 0.13333333 0.03896104 0.71428571 0.85714286]\n",
      " [0.89219331 0.88669702 0.97777778 0.86580087 0.42857143 0.        ]\n",
      " [0.88847584 1.         0.94444444 0.93073593 0.35714286 0.        ]\n",
      " [0.81412639 0.87101669 0.86666667 0.82251082 0.         0.        ]\n",
      " [0.92936803 0.67273647 0.63333333 0.55844156 0.21428571 0.35714286]\n",
      " [0.20446097 0.09205867 0.18888889 0.15151515 0.42857143 0.07142857]\n",
      " [0.11152416 0.01112797 0.         0.07359307 1.         0.07142857]\n",
      " [0.7063197  0.59382903 0.73333333 0.8008658  0.14285714 0.07142857]\n",
      " [0.48698885 0.21598381 0.44444444 0.3030303  0.28571429 0.64285714]\n",
      " [0.29739777 0.08345979 0.13333333 0.23809524 0.57142857 1.        ]\n",
      " [0.60966543 0.23318159 0.54444444 0.42857143 0.57142857 0.35714286]\n",
      " [0.55762082 0.32271118 0.37777778 0.34632035 0.35714286 0.35714286]\n",
      " [0.6394052  0.27415276 0.57777778 0.43290043 0.64285714 0.35714286]\n",
      " [0.55762082 0.21598381 0.53333333 0.38961039 0.5        0.35714286]\n",
      " [0.04089219 0.00101163 0.01111111 0.02164502 0.5        0.07142857]\n",
      " [0.95539033 0.71927162 0.65555556 0.54112554 0.28571429 0.35714286]\n",
      " [0.86988848 0.92918563 1.         0.88744589 0.14285714 0.        ]\n",
      " [0.2267658  0.12240769 0.22222222 0.10822511 0.57142857 0.07142857]\n",
      " [0.16728625 0.07688417 0.17777778 0.12987013 0.35714286 0.07142857]\n",
      " [0.85501859 0.8983308  0.84444444 0.8008658  0.07142857 0.        ]\n",
      " [0.73977695 0.79868488 0.77777778 0.84415584 0.28571429 0.07142857]\n",
      " [0.96654275 0.77744057 0.6        0.64935065 0.28571429 0.35714286]]\n",
      "[[ 0.62081784  0.28325746  0.45555556  0.25541126  0.42857143  0.64285714]\n",
      " [ 0.63197026  0.33586242  0.35555556  0.33333333  0.42857143  0.35714286]\n",
      " [ 0.95539033  0.8472433   0.71111111  0.5974026   0.14285714  0.35714286]\n",
      " [ 0.51672862  0.33990895  0.48888889  0.34632035  0.35714286  0.64285714]\n",
      " [ 0.07434944  0.00404654 -0.02222222  0.08658009  0.78571429  0.07142857]\n",
      " [ 0.22304833  0.11633789  0.2         0.17316017  0.5         0.07142857]\n",
      " [ 0.71003717  0.31866464  0.31111111  0.38528139  0.28571429  0.35714286]\n",
      " [ 0.74349442  0.54324734  0.8         0.82251082  0.21428571  0.07142857]\n",
      " [ 0.96654275  0.74709155  0.66666667  0.58441558  0.14285714  0.35714286]\n",
      " [ 0.58364312  0.28932726  0.56666667  0.46320346  0.42857143  0.35714286]\n",
      " [ 0.14869888  0.08194234  0.11111111  0.21645022  0.42857143  1.        ]\n",
      " [ 0.0929368   0.00758725 -0.01111111  0.06493506  0.64285714  0.07142857]\n",
      " [ 0.56877323  0.32726353  0.28888889  0.38961039  0.28571429  0.35714286]\n",
      " [ 0.94423792  0.79615579  0.67777778  0.48917749  0.21428571  0.35714286]\n",
      " [ 0.69888476  0.32018209  0.33333333  0.43290043  0.42857143  0.35714286]]\n",
      "The train data has:  (44, 6)\n",
      "The test data has:  (15, 6)\n"
     ]
    }
   ],
   "source": [
    "#apply scaling to the test set computed for the training set\n",
    "#normalize data using the MinMaxScaler = largest value is assigned 1, smallest is assigned 0. The rest scaled accordingly to the extent of the dataset.\n",
    "\n",
    "X_train, X_test, y_train, y_test = train_test_split(X, y, random_state=0)\n",
    "from sklearn.preprocessing import MinMaxScaler\n",
    "scaler = MinMaxScaler()\n",
    "X_train = scaler.fit_transform(X_train)\n",
    "X_test = scaler.transform(X_test)\n",
    "\n",
    "print(X_train)\n",
    "print(X_test)\n",
    "\n",
    "#examine object shapes\n",
    "print(\"The train data has: \", X_train.shape)\n",
    "print(\"The test data has: \", X_test.shape)"
   ]
  },
  {
   "cell_type": "code",
   "execution_count": 16,
   "metadata": {
    "ExecuteTime": {
     "end_time": "2019-11-08T08:33:07.664690Z",
     "start_time": "2019-11-08T08:33:07.489105Z"
    }
   },
   "outputs": [
    {
     "name": "stdout",
     "output_type": "stream",
     "text": [
      "Logistic regression classifier on training set:  0.9318181818181818\n",
      "Logistic regression classifier on testing set:  0.7333333333333333\n"
     ]
    },
    {
     "name": "stderr",
     "output_type": "stream",
     "text": [
      "/opt/anaconda3/lib/python3.7/site-packages/sklearn/linear_model/logistic.py:432: FutureWarning: Default solver will be changed to 'lbfgs' in 0.22. Specify a solver to silence this warning.\n",
      "  FutureWarning)\n",
      "/opt/anaconda3/lib/python3.7/site-packages/sklearn/linear_model/logistic.py:469: FutureWarning: Default multi_class will be changed to 'auto' in 0.22. Specify the multi_class option to silence this warning.\n",
      "  \"this warning.\", FutureWarning)\n"
     ]
    }
   ],
   "source": [
    "from sklearn.linear_model import LogisticRegression\n",
    "logreg = LogisticRegression()\n",
    "logreg.fit(X_train, y_train)\n",
    "\n",
    "print(\"Logistic regression classifier on training set: \", logreg.score(X_train, y_train))\n",
    "print(\"Logistic regression classifier on testing set: \", logreg.score(X_test, y_test))"
   ]
  },
  {
   "cell_type": "code",
   "execution_count": 17,
   "metadata": {
    "ExecuteTime": {
     "end_time": "2019-11-08T08:33:09.971350Z",
     "start_time": "2019-11-08T08:33:09.954319Z"
    }
   },
   "outputs": [],
   "source": [
    "# import the KNN classifier\n",
    "from sklearn.neighbors import KNeighborsClassifier\n",
    "from sklearn.metrics import accuracy_score\n",
    "\n",
    "#instantiate the model\n",
    "knn = KNeighborsClassifier(n_neighbors=5)\n"
   ]
  },
  {
   "cell_type": "code",
   "execution_count": 18,
   "metadata": {
    "ExecuteTime": {
     "end_time": "2019-11-08T08:33:10.687547Z",
     "start_time": "2019-11-08T08:33:10.681706Z"
    }
   },
   "outputs": [
    {
     "data": {
      "text/plain": [
       "KNeighborsClassifier(algorithm='auto', leaf_size=30, metric='minkowski',\n",
       "                     metric_params=None, n_jobs=None, n_neighbors=5, p=2,\n",
       "                     weights='uniform')"
      ]
     },
     "execution_count": 18,
     "metadata": {},
     "output_type": "execute_result"
    }
   ],
   "source": [
    "# fit model with data\n",
    "knn.fit(X_train, y_train)"
   ]
  },
  {
   "cell_type": "code",
   "execution_count": 19,
   "metadata": {
    "ExecuteTime": {
     "end_time": "2019-11-08T08:33:12.480738Z",
     "start_time": "2019-11-08T08:33:12.473684Z"
    }
   },
   "outputs": [
    {
     "name": "stdout",
     "output_type": "stream",
     "text": [
      "100.0\n"
     ]
    }
   ],
   "source": [
    "# Estimate the accuracy of the classifier on future data, using the test data\n",
    "# predict response for new observation; in order to make a prediction the new observation must have the same features as the training observations both in number and in meaning\n",
    "\n",
    "y_pred = knn.predict(X_test)\n",
    "acc = (accuracy_score(y_test, y_pred)* 100.00)\n",
    "print(acc)"
   ]
  },
  {
   "cell_type": "code",
   "execution_count": 22,
   "metadata": {
    "ExecuteTime": {
     "end_time": "2019-11-08T08:33:34.930040Z",
     "start_time": "2019-11-08T08:33:34.923725Z"
    }
   },
   "outputs": [
    {
     "data": {
      "text/plain": [
       "'french_bulldog'"
      ]
     },
     "execution_count": 22,
     "metadata": {},
     "output_type": "execute_result"
    }
   ],
   "source": [
    "# Use the trained k-NN classifier model to classify new, previously unseen objects\n",
    "# first example: a small dog with height 10 inches, weight 6.0 lbs, body length of 9.0 inches,lifespan in years equals 14 and obedience is 30% \n",
    "\n",
    "dog_breed_prediction = knn.predict([[8, 6.0, 9.0,18,14,30.0]])\n",
    "map_dog_breed[dog_breed_prediction[0]]"
   ]
  },
  {
   "cell_type": "code",
   "execution_count": 25,
   "metadata": {
    "ExecuteTime": {
     "end_time": "2019-11-08T08:34:05.756049Z",
     "start_time": "2019-11-08T08:34:05.750351Z"
    }
   },
   "outputs": [
    {
     "data": {
      "text/plain": [
       "'french_bulldog'"
      ]
     },
     "execution_count": 25,
     "metadata": {},
     "output_type": "execute_result"
    }
   ],
   "source": [
    "dog_breed_prediction = knn.predict([[14, 6.0, 12,5.5,11,75.0]])\n",
    "map_dog_breed[dog_breed_prediction[0]]"
   ]
  },
  {
   "cell_type": "code",
   "execution_count": null,
   "metadata": {},
   "outputs": [],
   "source": []
  }
 ],
 "metadata": {
  "hide_input": false,
  "kernelspec": {
   "display_name": "Python 3",
   "language": "python",
   "name": "python3"
  },
  "language_info": {
   "codemirror_mode": {
    "name": "ipython",
    "version": 3
   },
   "file_extension": ".py",
   "mimetype": "text/x-python",
   "name": "python",
   "nbconvert_exporter": "python",
   "pygments_lexer": "ipython3",
   "version": "3.7.4"
  },
  "toc": {
   "base_numbering": 1,
   "nav_menu": {},
   "number_sections": true,
   "sideBar": true,
   "skip_h1_title": false,
   "title_cell": "Table of Contents",
   "title_sidebar": "Contents",
   "toc_cell": false,
   "toc_position": {},
   "toc_section_display": true,
   "toc_window_display": false
  }
 },
 "nbformat": 4,
 "nbformat_minor": 2
}
