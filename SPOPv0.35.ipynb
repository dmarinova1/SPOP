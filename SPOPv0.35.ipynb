{
 "cells": [
  {
   "cell_type": "code",
   "execution_count": 1,
   "metadata": {
    "ExecuteTime": {
     "end_time": "2019-11-06T20:48:22.056515Z",
     "start_time": "2019-11-06T20:48:21.303789Z"
    }
   },
   "outputs": [
    {
     "name": "stdout",
     "output_type": "stream",
     "text": [
      "59\n"
     ]
    }
   ],
   "source": [
    "import numpy as np\n",
    "import pandas as pd\n",
    "import matplotlib.pyplot as plt\n",
    "\n",
    "#load data set using pandas\n",
    "\n",
    "dogs = pd.read_csv('dog-data.csv')\n",
    "\n",
    "print(len(dogs))"
   ]
  },
  {
   "cell_type": "code",
   "execution_count": 2,
   "metadata": {
    "ExecuteTime": {
     "end_time": "2019-11-06T20:48:22.974079Z",
     "start_time": "2019-11-06T20:48:22.970506Z"
    }
   },
   "outputs": [
    {
     "name": "stdout",
     "output_type": "stream",
     "text": [
      "(59, 9)\n"
     ]
    }
   ],
   "source": [
    "#outputs the number of rows and columns showing that we have 59 dog breeds and 7 features in the dataset\n",
    "print(dogs.shape)"
   ]
  },
  {
   "cell_type": "code",
   "execution_count": 3,
   "metadata": {
    "ExecuteTime": {
     "end_time": "2019-11-06T20:48:24.911546Z",
     "start_time": "2019-11-06T20:48:24.894892Z"
    }
   },
   "outputs": [
    {
     "data": {
      "text/html": [
       "<div>\n",
       "<style scoped>\n",
       "    .dataframe tbody tr th:only-of-type {\n",
       "        vertical-align: middle;\n",
       "    }\n",
       "\n",
       "    .dataframe tbody tr th {\n",
       "        vertical-align: top;\n",
       "    }\n",
       "\n",
       "    .dataframe thead th {\n",
       "        text-align: right;\n",
       "    }\n",
       "</style>\n",
       "<table border=\"1\" class=\"dataframe\">\n",
       "  <thead>\n",
       "    <tr style=\"text-align: right;\">\n",
       "      <th></th>\n",
       "      <th>dog_label</th>\n",
       "      <th>dog_size</th>\n",
       "      <th>dog_breed</th>\n",
       "      <th>low_height_inch</th>\n",
       "      <th>high_height_inch</th>\n",
       "      <th>low_weight_lbs</th>\n",
       "      <th>high_weight_lbs</th>\n",
       "      <th>obedience</th>\n",
       "      <th>lifespan_years</th>\n",
       "    </tr>\n",
       "  </thead>\n",
       "  <tbody>\n",
       "    <tr>\n",
       "      <td>0</td>\n",
       "      <td>1</td>\n",
       "      <td>small_dog</td>\n",
       "      <td>french_bulldog</td>\n",
       "      <td>10.5</td>\n",
       "      <td>11.4</td>\n",
       "      <td>17.3</td>\n",
       "      <td>27.55</td>\n",
       "      <td>30%</td>\n",
       "      <td>11</td>\n",
       "    </tr>\n",
       "    <tr>\n",
       "      <td>1</td>\n",
       "      <td>1</td>\n",
       "      <td>small_dog</td>\n",
       "      <td>french_bulldog</td>\n",
       "      <td>11.0</td>\n",
       "      <td>12.0</td>\n",
       "      <td>18.8</td>\n",
       "      <td>25.59</td>\n",
       "      <td>30%</td>\n",
       "      <td>12</td>\n",
       "    </tr>\n",
       "    <tr>\n",
       "      <td>2</td>\n",
       "      <td>1</td>\n",
       "      <td>small_dog</td>\n",
       "      <td>french_bulldog</td>\n",
       "      <td>11.2</td>\n",
       "      <td>11.9</td>\n",
       "      <td>23.8</td>\n",
       "      <td>28.00</td>\n",
       "      <td>30%</td>\n",
       "      <td>13</td>\n",
       "    </tr>\n",
       "    <tr>\n",
       "      <td>3</td>\n",
       "      <td>1</td>\n",
       "      <td>small_dog</td>\n",
       "      <td>french_bulldog</td>\n",
       "      <td>10.7</td>\n",
       "      <td>12.1</td>\n",
       "      <td>19.7</td>\n",
       "      <td>26.80</td>\n",
       "      <td>30%</td>\n",
       "      <td>14</td>\n",
       "    </tr>\n",
       "    <tr>\n",
       "      <td>4</td>\n",
       "      <td>1</td>\n",
       "      <td>small_dog</td>\n",
       "      <td>poodle</td>\n",
       "      <td>10.0</td>\n",
       "      <td>14.0</td>\n",
       "      <td>19.0</td>\n",
       "      <td>20.00</td>\n",
       "      <td>95%</td>\n",
       "      <td>12</td>\n",
       "    </tr>\n",
       "  </tbody>\n",
       "</table>\n",
       "</div>"
      ],
      "text/plain": [
       "   dog_label   dog_size       dog_breed  low_height_inch  high_height_inch  \\\n",
       "0          1  small_dog  french_bulldog             10.5              11.4   \n",
       "1          1  small_dog  french_bulldog             11.0              12.0   \n",
       "2          1  small_dog  french_bulldog             11.2              11.9   \n",
       "3          1  small_dog  french_bulldog             10.7              12.1   \n",
       "4          1  small_dog          poodle             10.0              14.0   \n",
       "\n",
       "   low_weight_lbs  high_weight_lbs obedience  lifespan_years  \n",
       "0            17.3            27.55       30%              11  \n",
       "1            18.8            25.59       30%              12  \n",
       "2            23.8            28.00       30%              13  \n",
       "3            19.7            26.80       30%              14  \n",
       "4            19.0            20.00       95%              12  "
      ]
     },
     "execution_count": 3,
     "metadata": {},
     "output_type": "execute_result"
    }
   ],
   "source": [
    "#print the first 5 rows of the dataset\n",
    "dogs.head()"
   ]
  },
  {
   "cell_type": "code",
   "execution_count": 4,
   "metadata": {
    "ExecuteTime": {
     "end_time": "2019-11-06T20:48:27.301591Z",
     "start_time": "2019-11-06T20:48:27.296770Z"
    }
   },
   "outputs": [
    {
     "name": "stdout",
     "output_type": "stream",
     "text": [
      "['small_dog' 'medium_dog' 'big_dog']\n"
     ]
    }
   ],
   "source": [
    "#we have 3 dog size types\n",
    "print(dogs['dog_size'].unique())"
   ]
  },
  {
   "cell_type": "code",
   "execution_count": 5,
   "metadata": {
    "ExecuteTime": {
     "end_time": "2019-11-06T20:48:27.969364Z",
     "start_time": "2019-11-06T20:48:27.965906Z"
    }
   },
   "outputs": [
    {
     "name": "stdout",
     "output_type": "stream",
     "text": [
      "['french_bulldog' 'poodle' 'chihuahua' 'pomeranian' 'siberian_husky'\n",
      " 'dalmatian' 'boxer' 'great_dane' 'saint_bernard' 'mastiff']\n"
     ]
    }
   ],
   "source": [
    "#output the dog sizes\n",
    "print(dogs['dog_breed'].unique())"
   ]
  },
  {
   "cell_type": "code",
   "execution_count": 6,
   "metadata": {
    "ExecuteTime": {
     "end_time": "2019-11-06T20:48:28.621651Z",
     "start_time": "2019-11-06T20:48:28.614981Z"
    }
   },
   "outputs": [
    {
     "name": "stdout",
     "output_type": "stream",
     "text": [
      "dog_size\n",
      "big_dog       22\n",
      "medium_dog    19\n",
      "small_dog     18\n",
      "dtype: int64\n"
     ]
    }
   ],
   "source": [
    "#print the number of each breed inside dog_size as small-medium-big dog\n",
    "#we note that the data is more or less balanced\n",
    "\n",
    "print(dogs.groupby('dog_size').size())"
   ]
  },
  {
   "cell_type": "code",
   "execution_count": 7,
   "metadata": {
    "ExecuteTime": {
     "end_time": "2019-11-06T20:48:30.923972Z",
     "start_time": "2019-11-06T20:48:30.411100Z"
    },
    "scrolled": true
   },
   "outputs": [
    {
     "data": {
      "image/png": "[encoded data removed]",
      "text/plain": [
       "<Figure size 432x288 with 1 Axes>"
      ]
     },
     "metadata": {
      "needs_background": "light"
     },
     "output_type": "display_data"
    }
   ],
   "source": [
    "#seaborn is a library for statistical graphics producing informative plots\n",
    "#visualize distribution of data to understand and explore it\n",
    "\n",
    "import seaborn as sns\n",
    "sns.countplot(dogs['dog_size'],label=\"Count\")\n",
    "plt.show()"
   ]
  },
  {
   "cell_type": "code",
   "execution_count": 9,
   "metadata": {
    "ExecuteTime": {
     "end_time": "2019-11-06T20:48:44.724830Z",
     "start_time": "2019-11-06T20:48:44.721361Z"
    }
   },
   "outputs": [],
   "source": [
    "#specify the feature columns\n",
    "feature_names = ['low_height_inch', 'high_height_inch', 'low_weight_lbs', 'high_weight_lbs', 'obedience', 'lifespan_years']"
   ]
  },
  {
   "cell_type": "code",
   "execution_count": 10,
   "metadata": {
    "ExecuteTime": {
     "end_time": "2019-11-06T20:48:46.128556Z",
     "start_time": "2019-11-06T20:48:46.009025Z"
    }
   },
   "outputs": [
    {
     "data": {
      "image/png": "[encoded data removed]",
      "text/plain": [
       "<Figure size 432x288 with 1 Axes>"
      ]
     },
     "metadata": {
      "needs_background": "light"
     },
     "output_type": "display_data"
    }
   ],
   "source": [
    "#visualize an informative plot on distribution of dog breeds\n",
    "sns.set_context(\"paper\", font_scale=1.4) #set the plotting context parameters but to be modified since the dog breeds are not readable\n",
    "sns.countplot(dogs['dog_breed'],label=\"Count\")\n",
    "plt.show()"
   ]
  },
  {
   "cell_type": "code",
   "execution_count": 11,
   "metadata": {
    "ExecuteTime": {
     "end_time": "2019-11-06T20:48:47.590193Z",
     "start_time": "2019-11-06T20:48:47.585940Z"
    }
   },
   "outputs": [],
   "source": [
    "#column 'obedience' contains numeric values, but is formatted as object.Therefore, we need to convert it to numeric value (float).\n",
    "#string method used to strip the right trailing percent sign (%).\n",
    "#astype() used to convert to type float.\n",
    "#assign new values back to the dogs dataframe, column 'obedience'\n",
    "dogs['obedience'] = dogs['obedience'].str.rstrip('%').astype('float')"
   ]
  },
  {
   "cell_type": "code",
   "execution_count": 12,
   "metadata": {
    "ExecuteTime": {
     "end_time": "2019-11-06T20:48:49.847290Z",
     "start_time": "2019-11-06T20:48:49.834047Z"
    }
   },
   "outputs": [
    {
     "data": {
      "text/html": [
       "<div>\n",
       "<style scoped>\n",
       "    .dataframe tbody tr th:only-of-type {\n",
       "        vertical-align: middle;\n",
       "    }\n",
       "\n",
       "    .dataframe tbody tr th {\n",
       "        vertical-align: top;\n",
       "    }\n",
       "\n",
       "    .dataframe thead th {\n",
       "        text-align: right;\n",
       "    }\n",
       "</style>\n",
       "<table border=\"1\" class=\"dataframe\">\n",
       "  <thead>\n",
       "    <tr style=\"text-align: right;\">\n",
       "      <th></th>\n",
       "      <th>dog_label</th>\n",
       "      <th>dog_size</th>\n",
       "      <th>dog_breed</th>\n",
       "      <th>low_height_inch</th>\n",
       "      <th>high_height_inch</th>\n",
       "      <th>low_weight_lbs</th>\n",
       "      <th>high_weight_lbs</th>\n",
       "      <th>obedience</th>\n",
       "      <th>lifespan_years</th>\n",
       "    </tr>\n",
       "  </thead>\n",
       "  <tbody>\n",
       "    <tr>\n",
       "      <td>0</td>\n",
       "      <td>1</td>\n",
       "      <td>small_dog</td>\n",
       "      <td>french_bulldog</td>\n",
       "      <td>10.5</td>\n",
       "      <td>11.4</td>\n",
       "      <td>17.3</td>\n",
       "      <td>27.55</td>\n",
       "      <td>30.0</td>\n",
       "      <td>11</td>\n",
       "    </tr>\n",
       "    <tr>\n",
       "      <td>1</td>\n",
       "      <td>1</td>\n",
       "      <td>small_dog</td>\n",
       "      <td>french_bulldog</td>\n",
       "      <td>11.0</td>\n",
       "      <td>12.0</td>\n",
       "      <td>18.8</td>\n",
       "      <td>25.59</td>\n",
       "      <td>30.0</td>\n",
       "      <td>12</td>\n",
       "    </tr>\n",
       "    <tr>\n",
       "      <td>2</td>\n",
       "      <td>1</td>\n",
       "      <td>small_dog</td>\n",
       "      <td>french_bulldog</td>\n",
       "      <td>11.2</td>\n",
       "      <td>11.9</td>\n",
       "      <td>23.8</td>\n",
       "      <td>28.00</td>\n",
       "      <td>30.0</td>\n",
       "      <td>13</td>\n",
       "    </tr>\n",
       "    <tr>\n",
       "      <td>3</td>\n",
       "      <td>1</td>\n",
       "      <td>small_dog</td>\n",
       "      <td>french_bulldog</td>\n",
       "      <td>10.7</td>\n",
       "      <td>12.1</td>\n",
       "      <td>19.7</td>\n",
       "      <td>26.80</td>\n",
       "      <td>30.0</td>\n",
       "      <td>14</td>\n",
       "    </tr>\n",
       "    <tr>\n",
       "      <td>4</td>\n",
       "      <td>1</td>\n",
       "      <td>small_dog</td>\n",
       "      <td>poodle</td>\n",
       "      <td>10.0</td>\n",
       "      <td>14.0</td>\n",
       "      <td>19.0</td>\n",
       "      <td>20.00</td>\n",
       "      <td>95.0</td>\n",
       "      <td>12</td>\n",
       "    </tr>\n",
       "  </tbody>\n",
       "</table>\n",
       "</div>"
      ],
      "text/plain": [
       "   dog_label   dog_size       dog_breed  low_height_inch  high_height_inch  \\\n",
       "0          1  small_dog  french_bulldog             10.5              11.4   \n",
       "1          1  small_dog  french_bulldog             11.0              12.0   \n",
       "2          1  small_dog  french_bulldog             11.2              11.9   \n",
       "3          1  small_dog  french_bulldog             10.7              12.1   \n",
       "4          1  small_dog          poodle             10.0              14.0   \n",
       "\n",
       "   low_weight_lbs  high_weight_lbs  obedience  lifespan_years  \n",
       "0            17.3            27.55       30.0              11  \n",
       "1            18.8            25.59       30.0              12  \n",
       "2            23.8            28.00       30.0              13  \n",
       "3            19.7            26.80       30.0              14  \n",
       "4            19.0            20.00       95.0              12  "
      ]
     },
     "execution_count": 12,
     "metadata": {},
     "output_type": "execute_result"
    }
   ],
   "source": [
    "#display first 5 rows of dataset to check if percent sign has been removed.\n",
    "dogs.head()"
   ]
  },
  {
   "cell_type": "code",
   "execution_count": 13,
   "metadata": {
    "ExecuteTime": {
     "end_time": "2019-11-06T20:48:52.667671Z",
     "start_time": "2019-11-06T20:48:52.662735Z"
    }
   },
   "outputs": [],
   "source": [
    "#assign to X the feature columns and to y the label column from the dataset \"dogs\"\n",
    "X = dogs[feature_names]\n",
    "y = dogs['dog_label']"
   ]
  },
  {
   "cell_type": "code",
   "execution_count": null,
   "metadata": {},
   "outputs": [],
   "source": [
    "#perform statistical analysis (min/max values; mean; count) to see if MinMaxScaler is necessary to be applied"
   ]
  }
 ],
 "metadata": {
  "hide_input": false,
  "kernelspec": {
   "display_name": "Python 3",
   "language": "python",
   "name": "python3"
  },
  "language_info": {
   "codemirror_mode": {
    "name": "ipython",
    "version": 3
   },
   "file_extension": ".py",
   "mimetype": "text/x-python",
   "name": "python",
   "nbconvert_exporter": "python",
   "pygments_lexer": "ipython3",
   "version": "3.7.4"
  },
  "toc": {
   "base_numbering": 1,
   "nav_menu": {},
   "number_sections": true,
   "sideBar": true,
   "skip_h1_title": false,
   "title_cell": "Table of Contents",
   "title_sidebar": "Contents",
   "toc_cell": false,
   "toc_position": {},
   "toc_section_display": true,
   "toc_window_display": false
  }
 },
 "nbformat": 4,
 "nbformat_minor": 2
}
