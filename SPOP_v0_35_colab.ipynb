{
  "nbformat": 4,
  "nbformat_minor": 0,
  "metadata": {
    "colab": {
      "name": "SPOP-v0.35-colab.ipynb",
      "provenance": [],
      "include_colab_link": true
    },
    "kernelspec": {
      "name": "python3",
      "display_name": "Python 3"
    }
  },
  "cells": [
    {
      "cell_type": "markdown",
      "metadata": {
        "id": "view-in-github",
        "colab_type": "text"
      },
      "source": [
        "<a href=\"https://colab.research.google.com/github/dmarinova1/SPOP/blob/master/SPOP_v0_35_colab.ipynb\" target=\"_parent\"><img src=\"https://colab.research.google.com/assets/colab-badge.svg\" alt=\"Open In Colab\"/></a>"
      ]
    },
    {
      "cell_type": "code",
      "metadata": {
        "id": "NSy-e3-Fz5ri",
        "colab_type": "code",
        "colab": {
          "base_uri": "https://localhost:8080/",
          "height": 34
        },
        "outputId": "6906789d-9523-4663-b459-91fa66c59bea"
      },
      "source": [
        "import numpy as np\n",
        "import pandas as pd\n",
        "import matplotlib.pyplot as plt\n",
        "\n",
        "#load data set using pandas\n",
        "path = 'https://raw.githubusercontent.com/dmarinova1/SPOP/master/dog-data.csv'\n",
        "\n",
        "dogs = pd.read_csv(path)\n",
        "\n",
        "print(len(dogs))"
      ],
      "execution_count": 7,
      "outputs": [
        {
          "output_type": "stream",
          "text": [
            "59\n"
          ],
          "name": "stdout"
        }
      ]
    },
    {
      "cell_type": "code",
      "metadata": {
        "id": "7CFpB0Qsz-SV",
        "colab_type": "code",
        "colab": {
          "base_uri": "https://localhost:8080/",
          "height": 34
        },
        "outputId": "0ba2d4d3-d38a-435b-b5b2-f0e1588ce773"
      },
      "source": [
        "#outputs the number of rows and columns showing that we have 59 dog breeds and 9 features in the dataset\n",
        "print(dogs.shape)"
      ],
      "execution_count": 8,
      "outputs": [
        {
          "output_type": "stream",
          "text": [
            "(59, 9)\n"
          ],
          "name": "stdout"
        }
      ]
    },
    {
      "cell_type": "code",
      "metadata": {
        "id": "VyvJvYZxz_1e",
        "colab_type": "code",
        "colab": {
          "base_uri": "https://localhost:8080/",
          "height": 204
        },
        "outputId": "1d6e08f7-2ac5-4062-971e-69c34728ba69"
      },
      "source": [
        "#print the first 5 rows of the dataset\n",
        "dogs.head()"
      ],
      "execution_count": 9,
      "outputs": [
        {
          "output_type": "execute_result",
          "data": {
            "text/html": [
              "<div>\n",
              "<style scoped>\n",
              "    .dataframe tbody tr th:only-of-type {\n",
              "        vertical-align: middle;\n",
              "    }\n",
              "\n",
              "    .dataframe tbody tr th {\n",
              "        vertical-align: top;\n",
              "    }\n",
              "\n",
              "    .dataframe thead th {\n",
              "        text-align: right;\n",
              "    }\n",
              "</style>\n",
              "<table border=\"1\" class=\"dataframe\">\n",
              "  <thead>\n",
              "    <tr style=\"text-align: right;\">\n",
              "      <th></th>\n",
              "      <th>dog_label</th>\n",
              "      <th>dog_size</th>\n",
              "      <th>dog_breed</th>\n",
              "      <th>height_inch</th>\n",
              "      <th>weight_lbs</th>\n",
              "      <th>obedience</th>\n",
              "      <th>lifespan_years</th>\n",
              "      <th>body_length_inch</th>\n",
              "      <th>neck_size_inch</th>\n",
              "    </tr>\n",
              "  </thead>\n",
              "  <tbody>\n",
              "    <tr>\n",
              "      <th>0</th>\n",
              "      <td>1</td>\n",
              "      <td>small_dog</td>\n",
              "      <td>french_bulldog</td>\n",
              "      <td>10.5</td>\n",
              "      <td>18.0</td>\n",
              "      <td>30%</td>\n",
              "      <td>11</td>\n",
              "      <td>15.0</td>\n",
              "      <td>16.0</td>\n",
              "    </tr>\n",
              "    <tr>\n",
              "      <th>1</th>\n",
              "      <td>1</td>\n",
              "      <td>small_dog</td>\n",
              "      <td>french_bulldog</td>\n",
              "      <td>11.5</td>\n",
              "      <td>21.0</td>\n",
              "      <td>30%</td>\n",
              "      <td>12</td>\n",
              "      <td>15.5</td>\n",
              "      <td>16.5</td>\n",
              "    </tr>\n",
              "    <tr>\n",
              "      <th>2</th>\n",
              "      <td>1</td>\n",
              "      <td>small_dog</td>\n",
              "      <td>french_bulldog</td>\n",
              "      <td>12.0</td>\n",
              "      <td>25.8</td>\n",
              "      <td>30%</td>\n",
              "      <td>13</td>\n",
              "      <td>16.0</td>\n",
              "      <td>17.0</td>\n",
              "    </tr>\n",
              "    <tr>\n",
              "      <th>3</th>\n",
              "      <td>1</td>\n",
              "      <td>small_dog</td>\n",
              "      <td>french_bulldog</td>\n",
              "      <td>12.1</td>\n",
              "      <td>27.0</td>\n",
              "      <td>30%</td>\n",
              "      <td>14</td>\n",
              "      <td>17.0</td>\n",
              "      <td>15.5</td>\n",
              "    </tr>\n",
              "    <tr>\n",
              "      <th>4</th>\n",
              "      <td>1</td>\n",
              "      <td>small_dog</td>\n",
              "      <td>poodle</td>\n",
              "      <td>10.0</td>\n",
              "      <td>19.0</td>\n",
              "      <td>95%</td>\n",
              "      <td>12</td>\n",
              "      <td>12.0</td>\n",
              "      <td>18.0</td>\n",
              "    </tr>\n",
              "  </tbody>\n",
              "</table>\n",
              "</div>"
            ],
            "text/plain": [
              "   dog_label   dog_size  ... body_length_inch  neck_size_inch\n",
              "0          1  small_dog  ...             15.0            16.0\n",
              "1          1  small_dog  ...             15.5            16.5\n",
              "2          1  small_dog  ...             16.0            17.0\n",
              "3          1  small_dog  ...             17.0            15.5\n",
              "4          1  small_dog  ...             12.0            18.0\n",
              "\n",
              "[5 rows x 9 columns]"
            ]
          },
          "metadata": {
            "tags": []
          },
          "execution_count": 9
        }
      ]
    },
    {
      "cell_type": "code",
      "metadata": {
        "id": "46eHwtNEz_5h",
        "colab_type": "code",
        "colab": {
          "base_uri": "https://localhost:8080/",
          "height": 34
        },
        "outputId": "c23f7668-620c-44d5-e541-21c71e95ed44"
      },
      "source": [
        "#we have 3 dog size types\n",
        "print(dogs['dog_size'].unique())"
      ],
      "execution_count": 10,
      "outputs": [
        {
          "output_type": "stream",
          "text": [
            "['small_dog' 'medium_dog' 'big_dog']\n"
          ],
          "name": "stdout"
        }
      ]
    },
    {
      "cell_type": "code",
      "metadata": {
        "id": "n5DTU5v8z_8q",
        "colab_type": "code",
        "colab": {
          "base_uri": "https://localhost:8080/",
          "height": 34
        },
        "outputId": "7af46b97-7915-4056-e5f2-168530920f54"
      },
      "source": [
        "# create a mapping from dog label value to dog breed to make results easier to interpret\n",
        "map_dog_breed = dict(zip(dogs.dog_label.unique(), dogs.dog_breed.unique()))\n",
        "map_dog_breed"
      ],
      "execution_count": 11,
      "outputs": [
        {
          "output_type": "execute_result",
          "data": {
            "text/plain": [
              "{1: 'french_bulldog', 2: 'poodle', 3: 'chihuahua'}"
            ]
          },
          "metadata": {
            "tags": []
          },
          "execution_count": 11
        }
      ]
    },
    {
      "cell_type": "code",
      "metadata": {
        "id": "Omfd5vZzz__Z",
        "colab_type": "code",
        "colab": {
          "base_uri": "https://localhost:8080/",
          "height": 51
        },
        "outputId": "4c14798d-58a3-476b-ffe9-e1997f77dc75"
      },
      "source": [
        "#output the dog breeds\n",
        "print(dogs['dog_breed'].unique())"
      ],
      "execution_count": 12,
      "outputs": [
        {
          "output_type": "stream",
          "text": [
            "['french_bulldog' 'poodle' 'chihuahua' 'pomeranian' 'siberian_husky'\n",
            " 'dalmatian' 'boxer' 'great_dane' 'saint_bernard' 'mastiff']\n"
          ],
          "name": "stdout"
        }
      ]
    },
    {
      "cell_type": "code",
      "metadata": {
        "id": "VyNO6I2L0ACI",
        "colab_type": "code",
        "colab": {
          "base_uri": "https://localhost:8080/",
          "height": 102
        },
        "outputId": "49b4f7d6-e15e-49fe-a618-2a9d9d429f8b"
      },
      "source": [
        "#print the number of each breed inside dog_size as small-medium-big dog\n",
        "#we note that the data is more or less balanced\n",
        "\n",
        "print(dogs.groupby('dog_size').size())"
      ],
      "execution_count": 13,
      "outputs": [
        {
          "output_type": "stream",
          "text": [
            "dog_size\n",
            "big_dog       22\n",
            "medium_dog    19\n",
            "small_dog     18\n",
            "dtype: int64\n"
          ],
          "name": "stdout"
        }
      ]
    },
    {
      "cell_type": "code",
      "metadata": {
        "id": "k8hNFD-J0AE6",
        "colab_type": "code",
        "colab": {
          "base_uri": "https://localhost:8080/",
          "height": 281
        },
        "outputId": "1a6d7de7-c647-4c56-bf2c-b28d009dd175"
      },
      "source": [
        "#seaborn is a library for statistical graphics producing informative plots\n",
        "#visualize distribution of data to understand and explore it\n",
        "\n",
        "import seaborn as sns\n",
        "sns.countplot(dogs['dog_size'],label=\"Count\")\n",
        "plt.show()"
      ],
      "execution_count": 14,
      "outputs": [
        {
          "output_type": "display_data",
          "data": {
            "image/png": "[encoded data removed]",
            "text/plain": [
              "<Figure size 432x288 with 1 Axes>"
            ]
          },
          "metadata": {
            "tags": []
          }
        }
      ]
    },
    {
      "cell_type": "code",
      "metadata": {
        "id": "DE4yvy-m0NPx",
        "colab_type": "code",
        "colab": {
          "base_uri": "https://localhost:8080/",
          "height": 287
        },
        "outputId": "d6e31c32-69c4-429e-dfbc-b7759800b6ac"
      },
      "source": [
        "#visualize an informative plot on distribution of dog breeds\n",
        "sns.set_context(\"paper\", font_scale=1.4) #set the plotting context parameters but to be modified since the dog breeds are not readable\n",
        "sns.countplot(dogs['dog_breed'],label=\"Count\")\n",
        "plt.show()"
      ],
      "execution_count": 15,
      "outputs": [
        {
          "output_type": "display_data",
          "data": {
            "image/png": "[encoded data removed]",
            "text/plain": [
              "<Figure size 432x288 with 1 Axes>"
            ]
          },
          "metadata": {
            "tags": []
          }
        }
      ]
    },
    {
      "cell_type": "code",
      "metadata": {
        "id": "XYkJFpNE0NSH",
        "colab_type": "code",
        "colab": {}
      },
      "source": [
        "#column 'obedience' contains numeric values, but is formatted as object.Therefore, we need to convert it to numeric value (float).\n",
        "#string method used to strip the right trailing percent sign (%).\n",
        "#astype() used to convert to type float.\n",
        "#assign new values back to the dogs dataframe, column 'obedience'\n",
        "dogs['obedience'] = dogs['obedience'].str.rstrip('%').astype('float')"
      ],
      "execution_count": 0,
      "outputs": []
    },
    {
      "cell_type": "code",
      "metadata": {
        "id": "EUVKHbmK0NU3",
        "colab_type": "code",
        "colab": {
          "base_uri": "https://localhost:8080/",
          "height": 204
        },
        "outputId": "20b74dd3-9e4c-4827-b114-00f52e592a30"
      },
      "source": [
        "#display first 5 rows of dataset to check if percent sign has been removed.\n",
        "dogs.head()"
      ],
      "execution_count": 17,
      "outputs": [
        {
          "output_type": "execute_result",
          "data": {
            "text/html": [
              "<div>\n",
              "<style scoped>\n",
              "    .dataframe tbody tr th:only-of-type {\n",
              "        vertical-align: middle;\n",
              "    }\n",
              "\n",
              "    .dataframe tbody tr th {\n",
              "        vertical-align: top;\n",
              "    }\n",
              "\n",
              "    .dataframe thead th {\n",
              "        text-align: right;\n",
              "    }\n",
              "</style>\n",
              "<table border=\"1\" class=\"dataframe\">\n",
              "  <thead>\n",
              "    <tr style=\"text-align: right;\">\n",
              "      <th></th>\n",
              "      <th>dog_label</th>\n",
              "      <th>dog_size</th>\n",
              "      <th>dog_breed</th>\n",
              "      <th>height_inch</th>\n",
              "      <th>weight_lbs</th>\n",
              "      <th>obedience</th>\n",
              "      <th>lifespan_years</th>\n",
              "      <th>body_length_inch</th>\n",
              "      <th>neck_size_inch</th>\n",
              "    </tr>\n",
              "  </thead>\n",
              "  <tbody>\n",
              "    <tr>\n",
              "      <th>0</th>\n",
              "      <td>1</td>\n",
              "      <td>small_dog</td>\n",
              "      <td>french_bulldog</td>\n",
              "      <td>10.5</td>\n",
              "      <td>18.0</td>\n",
              "      <td>30.0</td>\n",
              "      <td>11</td>\n",
              "      <td>15.0</td>\n",
              "      <td>16.0</td>\n",
              "    </tr>\n",
              "    <tr>\n",
              "      <th>1</th>\n",
              "      <td>1</td>\n",
              "      <td>small_dog</td>\n",
              "      <td>french_bulldog</td>\n",
              "      <td>11.5</td>\n",
              "      <td>21.0</td>\n",
              "      <td>30.0</td>\n",
              "      <td>12</td>\n",
              "      <td>15.5</td>\n",
              "      <td>16.5</td>\n",
              "    </tr>\n",
              "    <tr>\n",
              "      <th>2</th>\n",
              "      <td>1</td>\n",
              "      <td>small_dog</td>\n",
              "      <td>french_bulldog</td>\n",
              "      <td>12.0</td>\n",
              "      <td>25.8</td>\n",
              "      <td>30.0</td>\n",
              "      <td>13</td>\n",
              "      <td>16.0</td>\n",
              "      <td>17.0</td>\n",
              "    </tr>\n",
              "    <tr>\n",
              "      <th>3</th>\n",
              "      <td>1</td>\n",
              "      <td>small_dog</td>\n",
              "      <td>french_bulldog</td>\n",
              "      <td>12.1</td>\n",
              "      <td>27.0</td>\n",
              "      <td>30.0</td>\n",
              "      <td>14</td>\n",
              "      <td>17.0</td>\n",
              "      <td>15.5</td>\n",
              "    </tr>\n",
              "    <tr>\n",
              "      <th>4</th>\n",
              "      <td>1</td>\n",
              "      <td>small_dog</td>\n",
              "      <td>poodle</td>\n",
              "      <td>10.0</td>\n",
              "      <td>19.0</td>\n",
              "      <td>95.0</td>\n",
              "      <td>12</td>\n",
              "      <td>12.0</td>\n",
              "      <td>18.0</td>\n",
              "    </tr>\n",
              "  </tbody>\n",
              "</table>\n",
              "</div>"
            ],
            "text/plain": [
              "   dog_label   dog_size  ... body_length_inch  neck_size_inch\n",
              "0          1  small_dog  ...             15.0            16.0\n",
              "1          1  small_dog  ...             15.5            16.5\n",
              "2          1  small_dog  ...             16.0            17.0\n",
              "3          1  small_dog  ...             17.0            15.5\n",
              "4          1  small_dog  ...             12.0            18.0\n",
              "\n",
              "[5 rows x 9 columns]"
            ]
          },
          "metadata": {
            "tags": []
          },
          "execution_count": 17
        }
      ]
    },
    {
      "cell_type": "code",
      "metadata": {
        "id": "n3Y1AyPv0NXj",
        "colab_type": "code",
        "colab": {}
      },
      "source": [
        "#specify the feature columns\n",
        "feature_names = ['height_inch', 'weight_lbs', 'body_length_inch','neck_size_inch','lifespan_years', 'obedience']"
      ],
      "execution_count": 0,
      "outputs": []
    },
    {
      "cell_type": "code",
      "metadata": {
        "id": "jvMJu-YR0WuP",
        "colab_type": "code",
        "colab": {}
      },
      "source": [
        "#assign to X the feature columns and to y the label column from the dataset \"dogs\"\n",
        "X = dogs[feature_names]\n",
        "y = dogs['dog_label']"
      ],
      "execution_count": 0,
      "outputs": []
    },
    {
      "cell_type": "code",
      "metadata": {
        "id": "sNVdPH9Z0W0F",
        "colab_type": "code",
        "colab": {
          "base_uri": "https://localhost:8080/",
          "height": 1000
        },
        "outputId": "78b8df47-ac52-4ee7-8467-9c86f18134af"
      },
      "source": [
        "from sklearn.model_selection import train_test_split\n",
        "\n",
        "#apply scaling to the test set computed for the training set\n",
        "#normalize data using the MinMaxScaler = largest value is assigned 1, smallest is assigned 0. The rest scaled accordingly to the extent of the dataset.\n",
        "\n",
        "X_train, X_test, y_train, y_test = train_test_split(X, y, random_state=0)\n",
        "from sklearn.preprocessing import MinMaxScaler\n",
        "scaler = MinMaxScaler()\n",
        "X_train = scaler.fit_transform(X_train)\n",
        "X_test = scaler.transform(X_test)\n",
        "\n",
        "print(X_train)\n",
        "print(X_test)\n",
        "\n",
        "#examine object shapes\n",
        "print(\"The train data has: \", X_train.shape)\n",
        "print(\"The test data has: \", X_test.shape)"
      ],
      "execution_count": 20,
      "outputs": [
        {
          "output_type": "stream",
          "text": [
            "[[1.         0.83156297 0.68888889 0.62770563 0.28571429 0.35714286]\n",
            " [0.78066914 0.84623166 0.82222222 0.86580087 0.14285714 0.07142857]\n",
            " [0.33457249 0.08598887 0.11111111 0.17316017 0.64285714 1.        ]\n",
            " [0.22304833 0.00657562 0.08888889 0.         0.5        0.85714286]\n",
            " [0.65799257 0.33990895 0.32222222 0.41125541 0.35714286 0.35714286]\n",
            " [0.81784387 0.95042994 0.84444444 0.88744589 0.21428571 0.07142857]\n",
            " [0.53159851 0.31158321 0.44444444 0.32467532 0.42857143 0.64285714]\n",
            " [0.96654275 0.62974203 0.64444444 0.56277056 0.14285714 0.35714286]\n",
            " [0.84758364 0.96256955 0.95555556 1.         0.28571429 0.        ]\n",
            " [0.5204461  0.18816388 0.51111111 0.36796537 0.42857143 0.35714286]\n",
            " [0.79182156 0.95042994 0.88888889 0.90909091 0.21428571 0.        ]\n",
            " [0.63197026 0.33586242 0.47777778 0.2987013  0.5        0.64285714]\n",
            " [0.2267658  0.01365706 0.11111111 0.08658009 0.57142857 0.85714286]\n",
            " [0.27881041 0.08851796 0.12222222 0.19480519 0.5        1.        ]\n",
            " [0.62825279 0.32979262 0.3        0.36796537 0.28571429 0.35714286]\n",
            " [0.22304833 0.02073849 0.12222222 0.07359307 0.64285714 0.85714286]\n",
            " [0.79925651 0.92261002 0.86666667 0.90909091 0.28571429 0.07142857]\n",
            " [0.59479554 0.24127466 0.55555556 0.41125541 0.57142857 0.35714286]\n",
            " [0.81784387 0.64592817 0.88888889 0.81818182 0.14285714 0.07142857]\n",
            " [0.         0.         0.02222222 0.04329004 0.42857143 0.07142857]\n",
            " [0.20446097 0.00455235 0.06666667 0.06493506 0.42857143 0.85714286]\n",
            " [0.5204461  0.23975721 0.46666667 0.28138528 0.35714286 0.64285714]\n",
            " [0.21561338 0.02124431 0.13333333 0.03896104 0.71428571 0.85714286]\n",
            " [0.89219331 0.88669702 0.97777778 0.86580087 0.42857143 0.        ]\n",
            " [0.88847584 1.         0.94444444 0.93073593 0.35714286 0.        ]\n",
            " [0.81412639 0.87101669 0.86666667 0.82251082 0.         0.        ]\n",
            " [0.92936803 0.67273647 0.63333333 0.55844156 0.21428571 0.35714286]\n",
            " [0.20446097 0.09205867 0.18888889 0.15151515 0.42857143 0.07142857]\n",
            " [0.11152416 0.01112797 0.         0.07359307 1.         0.07142857]\n",
            " [0.7063197  0.59382903 0.73333333 0.8008658  0.14285714 0.07142857]\n",
            " [0.48698885 0.21598381 0.44444444 0.3030303  0.28571429 0.64285714]\n",
            " [0.29739777 0.08345979 0.13333333 0.23809524 0.57142857 1.        ]\n",
            " [0.60966543 0.23318159 0.54444444 0.42857143 0.57142857 0.35714286]\n",
            " [0.55762082 0.32271118 0.37777778 0.34632035 0.35714286 0.35714286]\n",
            " [0.6394052  0.27415276 0.57777778 0.43290043 0.64285714 0.35714286]\n",
            " [0.55762082 0.21598381 0.53333333 0.38961039 0.5        0.35714286]\n",
            " [0.04089219 0.00101163 0.01111111 0.02164502 0.5        0.07142857]\n",
            " [0.95539033 0.71927162 0.65555556 0.54112554 0.28571429 0.35714286]\n",
            " [0.86988848 0.92918563 1.         0.88744589 0.14285714 0.        ]\n",
            " [0.2267658  0.12240769 0.22222222 0.10822511 0.57142857 0.07142857]\n",
            " [0.16728625 0.07688417 0.17777778 0.12987013 0.35714286 0.07142857]\n",
            " [0.85501859 0.8983308  0.84444444 0.8008658  0.07142857 0.        ]\n",
            " [0.73977695 0.79868488 0.77777778 0.84415584 0.28571429 0.07142857]\n",
            " [0.96654275 0.77744057 0.6        0.64935065 0.28571429 0.35714286]]\n",
            "[[ 0.62081784  0.28325746  0.45555556  0.25541126  0.42857143  0.64285714]\n",
            " [ 0.63197026  0.33586242  0.35555556  0.33333333  0.42857143  0.35714286]\n",
            " [ 0.95539033  0.8472433   0.71111111  0.5974026   0.14285714  0.35714286]\n",
            " [ 0.51672862  0.33990895  0.48888889  0.34632035  0.35714286  0.64285714]\n",
            " [ 0.07434944  0.00404654 -0.02222222  0.08658009  0.78571429  0.07142857]\n",
            " [ 0.22304833  0.11633789  0.2         0.17316017  0.5         0.07142857]\n",
            " [ 0.71003717  0.31866464  0.31111111  0.38528139  0.28571429  0.35714286]\n",
            " [ 0.74349442  0.54324734  0.8         0.82251082  0.21428571  0.07142857]\n",
            " [ 0.96654275  0.74709155  0.66666667  0.58441558  0.14285714  0.35714286]\n",
            " [ 0.58364312  0.28932726  0.56666667  0.46320346  0.42857143  0.35714286]\n",
            " [ 0.14869888  0.08194234  0.11111111  0.21645022  0.42857143  1.        ]\n",
            " [ 0.0929368   0.00758725 -0.01111111  0.06493506  0.64285714  0.07142857]\n",
            " [ 0.56877323  0.32726353  0.28888889  0.38961039  0.28571429  0.35714286]\n",
            " [ 0.94423792  0.79615579  0.67777778  0.48917749  0.21428571  0.35714286]\n",
            " [ 0.69888476  0.32018209  0.33333333  0.43290043  0.42857143  0.35714286]]\n",
            "The train data has:  (44, 6)\n",
            "The test data has:  (15, 6)\n"
          ],
          "name": "stdout"
        }
      ]
    },
    {
      "cell_type": "code",
      "metadata": {
        "id": "ALXdFo-40WxO",
        "colab_type": "code",
        "colab": {
          "base_uri": "https://localhost:8080/",
          "height": 139
        },
        "outputId": "e67f6d79-d64b-4279-80e2-27aff0c02fde"
      },
      "source": [
        "from sklearn.linear_model import LogisticRegression\n",
        "logreg = LogisticRegression()\n",
        "logreg.fit(X_train, y_train)\n",
        "\n",
        "print(\"Logistic regression classifier on training set: \", logreg.score(X_train, y_train))\n",
        "print(\"Logistic regression classifier on testing set: \", logreg.score(X_test, y_test))"
      ],
      "execution_count": 21,
      "outputs": [
        {
          "output_type": "stream",
          "text": [
            "Logistic regression classifier on training set:  0.9318181818181818\n",
            "Logistic regression classifier on testing set:  0.7333333333333333\n"
          ],
          "name": "stdout"
        },
        {
          "output_type": "stream",
          "text": [
            "/usr/local/lib/python3.6/dist-packages/sklearn/linear_model/logistic.py:432: FutureWarning: Default solver will be changed to 'lbfgs' in 0.22. Specify a solver to silence this warning.\n",
            "  FutureWarning)\n",
            "/usr/local/lib/python3.6/dist-packages/sklearn/linear_model/logistic.py:469: FutureWarning: Default multi_class will be changed to 'auto' in 0.22. Specify the multi_class option to silence this warning.\n",
            "  \"this warning.\", FutureWarning)\n"
          ],
          "name": "stderr"
        }
      ]
    },
    {
      "cell_type": "code",
      "metadata": {
        "id": "WqjKTVBr0kUC",
        "colab_type": "code",
        "colab": {}
      },
      "source": [
        "# import the KNN classifier\n",
        "from sklearn.neighbors import KNeighborsClassifier\n",
        "from sklearn.metrics import accuracy_score\n",
        "\n",
        "#instantiate the model\n",
        "knn = KNeighborsClassifier(n_neighbors=5)"
      ],
      "execution_count": 0,
      "outputs": []
    },
    {
      "cell_type": "code",
      "metadata": {
        "id": "YdDypMSI0kWm",
        "colab_type": "code",
        "colab": {
          "base_uri": "https://localhost:8080/",
          "height": 68
        },
        "outputId": "2d9bb083-7c03-47e5-f83e-b6ed6942f119"
      },
      "source": [
        "# fit model with data\n",
        "knn.fit(X_train, y_train)"
      ],
      "execution_count": 23,
      "outputs": [
        {
          "output_type": "execute_result",
          "data": {
            "text/plain": [
              "KNeighborsClassifier(algorithm='auto', leaf_size=30, metric='minkowski',\n",
              "                     metric_params=None, n_jobs=None, n_neighbors=5, p=2,\n",
              "                     weights='uniform')"
            ]
          },
          "metadata": {
            "tags": []
          },
          "execution_count": 23
        }
      ]
    },
    {
      "cell_type": "code",
      "metadata": {
        "id": "TtkWg6de0W3N",
        "colab_type": "code",
        "colab": {
          "base_uri": "https://localhost:8080/",
          "height": 34
        },
        "outputId": "b8d57c9a-dcf5-4d45-d33b-b88ce5701459"
      },
      "source": [
        "# Estimate the accuracy of the classifier on future data, using the test data\n",
        "# predict response for new observation; in order to make a prediction the new observation must have the same features as the training observations both in number and in meaning\n",
        "\n",
        "y_pred = knn.predict(X_test)\n",
        "acc = (accuracy_score(y_test, y_pred)* 100.00)\n",
        "print(acc)"
      ],
      "execution_count": 24,
      "outputs": [
        {
          "output_type": "stream",
          "text": [
            "100.0\n"
          ],
          "name": "stdout"
        }
      ]
    },
    {
      "cell_type": "code",
      "metadata": {
        "id": "VEcuOBOh0rDv",
        "colab_type": "code",
        "colab": {
          "base_uri": "https://localhost:8080/",
          "height": 34
        },
        "outputId": "6e0efc83-e604-45bd-9185-b827c5e3b2f8"
      },
      "source": [
        "# Use the trained k-NN classifier model to classify new, previously unseen objects\n",
        "# first example: a small dog with height 10 inches, weight 6.0 lbs, body length of 9.0 inches,lifespan in years equals 14 and obedience is 30% \n",
        "\n",
        "dog_breed_prediction = knn.predict([[8, 6.0, 9.0,18,14,30.0]])\n",
        "map_dog_breed[dog_breed_prediction[0]]"
      ],
      "execution_count": 25,
      "outputs": [
        {
          "output_type": "execute_result",
          "data": {
            "text/plain": [
              "'french_bulldog'"
            ]
          },
          "metadata": {
            "tags": []
          },
          "execution_count": 25
        }
      ]
    },
    {
      "cell_type": "code",
      "metadata": {
        "id": "1ZeRZqyR0rIV",
        "colab_type": "code",
        "colab": {
          "base_uri": "https://localhost:8080/",
          "height": 34
        },
        "outputId": "0985a1cf-cf04-4ada-bbbc-b6c354d65ce9"
      },
      "source": [
        "dog_breed_prediction = knn.predict([[14, 6.0, 12,5.5,11,75.0]])\n",
        "map_dog_breed[dog_breed_prediction[0]]"
      ],
      "execution_count": 26,
      "outputs": [
        {
          "output_type": "execute_result",
          "data": {
            "text/plain": [
              "'french_bulldog'"
            ]
          },
          "metadata": {
            "tags": []
          },
          "execution_count": 26
        }
      ]
    },
    {
      "cell_type": "code",
      "metadata": {
        "id": "RPQ6q8E_0rLm",
        "colab_type": "code",
        "colab": {}
      },
      "source": [
        ""
      ],
      "execution_count": 0,
      "outputs": []
    }
  ]
}