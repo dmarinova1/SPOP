{
 "cells": [
  {
   "cell_type": "code",
   "execution_count": 1,
   "metadata": {
    "ExecuteTime": {
     "end_time": "2019-11-04T20:45:38.431874Z",
     "start_time": "2019-11-04T20:45:38.025994Z"
    }
   },
   "outputs": [
    {
     "name": "stdout",
     "output_type": "stream",
     "text": [
      "59\n"
     ]
    }
   ],
   "source": [
    "import numpy as np\n",
    "import pandas as pd\n",
    "import matplotlib.pyplot as plt\n",
    "\n",
    "\n",
    "\n",
    "#load data set using pandas\n",
    "\n",
    "dogs = pd.read_csv('dog-data.csv')\n",
    "\n",
    "print(len(dogs))"
   ]
  },
  {
   "cell_type": "code",
   "execution_count": 4,
   "metadata": {
    "ExecuteTime": {
     "end_time": "2019-11-04T20:46:26.463308Z",
     "start_time": "2019-11-04T20:46:26.459842Z"
    }
   },
   "outputs": [
    {
     "name": "stdout",
     "output_type": "stream",
     "text": [
      "(59, 7)\n"
     ]
    }
   ],
   "source": [
    "print(dogs.shape) #outputs the number of rows and columns"
   ]
  },
  {
   "cell_type": "code",
   "execution_count": 5,
   "metadata": {
    "ExecuteTime": {
     "end_time": "2019-11-04T20:46:48.891505Z",
     "start_time": "2019-11-04T20:46:48.877240Z"
    }
   },
   "outputs": [
    {
     "data": {
      "text/html": [
       "<div>\n",
       "<style scoped>\n",
       "    .dataframe tbody tr th:only-of-type {\n",
       "        vertical-align: middle;\n",
       "    }\n",
       "\n",
       "    .dataframe tbody tr th {\n",
       "        vertical-align: top;\n",
       "    }\n",
       "\n",
       "    .dataframe thead th {\n",
       "        text-align: right;\n",
       "    }\n",
       "</style>\n",
       "<table border=\"1\" class=\"dataframe\">\n",
       "  <thead>\n",
       "    <tr style=\"text-align: right;\">\n",
       "      <th></th>\n",
       "      <th>dog_label</th>\n",
       "      <th>dog_size</th>\n",
       "      <th>dog_breed</th>\n",
       "      <th>low_height_inch</th>\n",
       "      <th>high_height_inch</th>\n",
       "      <th>low_weight_lbs</th>\n",
       "      <th>high_weight_lbs</th>\n",
       "    </tr>\n",
       "  </thead>\n",
       "  <tbody>\n",
       "    <tr>\n",
       "      <td>0</td>\n",
       "      <td>1</td>\n",
       "      <td>small_dog</td>\n",
       "      <td>french_bulldog</td>\n",
       "      <td>10.5</td>\n",
       "      <td>11.4</td>\n",
       "      <td>17.3</td>\n",
       "      <td>27.55</td>\n",
       "    </tr>\n",
       "    <tr>\n",
       "      <td>1</td>\n",
       "      <td>1</td>\n",
       "      <td>small_dog</td>\n",
       "      <td>french_bulldog</td>\n",
       "      <td>11.0</td>\n",
       "      <td>12.0</td>\n",
       "      <td>18.8</td>\n",
       "      <td>25.59</td>\n",
       "    </tr>\n",
       "    <tr>\n",
       "      <td>2</td>\n",
       "      <td>1</td>\n",
       "      <td>small_dog</td>\n",
       "      <td>french_bulldog</td>\n",
       "      <td>11.2</td>\n",
       "      <td>11.9</td>\n",
       "      <td>23.8</td>\n",
       "      <td>28.00</td>\n",
       "    </tr>\n",
       "    <tr>\n",
       "      <td>3</td>\n",
       "      <td>1</td>\n",
       "      <td>small_dog</td>\n",
       "      <td>french_bulldog</td>\n",
       "      <td>10.7</td>\n",
       "      <td>12.1</td>\n",
       "      <td>19.7</td>\n",
       "      <td>26.80</td>\n",
       "    </tr>\n",
       "    <tr>\n",
       "      <td>4</td>\n",
       "      <td>1</td>\n",
       "      <td>small_dog</td>\n",
       "      <td>poodle</td>\n",
       "      <td>10.0</td>\n",
       "      <td>14.0</td>\n",
       "      <td>19.0</td>\n",
       "      <td>20.00</td>\n",
       "    </tr>\n",
       "  </tbody>\n",
       "</table>\n",
       "</div>"
      ],
      "text/plain": [
       "   dog_label   dog_size       dog_breed  low_height_inch  high_height_inch  \\\n",
       "0          1  small_dog  french_bulldog             10.5              11.4   \n",
       "1          1  small_dog  french_bulldog             11.0              12.0   \n",
       "2          1  small_dog  french_bulldog             11.2              11.9   \n",
       "3          1  small_dog  french_bulldog             10.7              12.1   \n",
       "4          1  small_dog          poodle             10.0              14.0   \n",
       "\n",
       "   low_weight_lbs  high_weight_lbs  \n",
       "0            17.3            27.55  \n",
       "1            18.8            25.59  \n",
       "2            23.8            28.00  \n",
       "3            19.7            26.80  \n",
       "4            19.0            20.00  "
      ]
     },
     "execution_count": 5,
     "metadata": {},
     "output_type": "execute_result"
    }
   ],
   "source": [
    "#print the first 5 rows of the dataset\n",
    "dogs.head()"
   ]
  },
  {
   "cell_type": "code",
   "execution_count": 6,
   "metadata": {
    "ExecuteTime": {
     "end_time": "2019-11-04T20:47:05.493453Z",
     "start_time": "2019-11-04T20:47:05.489186Z"
    }
   },
   "outputs": [
    {
     "name": "stdout",
     "output_type": "stream",
     "text": [
      "['small_dog' 'medium_dog' 'big_dog']\n"
     ]
    }
   ],
   "source": [
    "print(dogs['dog_size'].unique())"
   ]
  },
  {
   "cell_type": "code",
   "execution_count": 7,
   "metadata": {
    "ExecuteTime": {
     "end_time": "2019-11-04T20:47:15.786655Z",
     "start_time": "2019-11-04T20:47:15.782569Z"
    }
   },
   "outputs": [
    {
     "name": "stdout",
     "output_type": "stream",
     "text": [
      "['french_bulldog' 'poodle' 'chihuahua' 'pomeranian' 'siberian_husky'\n",
      " 'dalmatian' 'boxer' 'great_dane' 'saint_bernard' 'mastiff']\n"
     ]
    }
   ],
   "source": [
    "#output the dog sizes\n",
    "print(dogs['dog_breed'].unique())"
   ]
  },
  {
   "cell_type": "code",
   "execution_count": null,
   "metadata": {},
   "outputs": [],
   "source": []
  }
 ],
 "metadata": {
  "hide_input": false,
  "kernelspec": {
   "display_name": "Python 3",
   "language": "python",
   "name": "python3"
  },
  "language_info": {
   "codemirror_mode": {
    "name": "ipython",
    "version": 3
   },
   "file_extension": ".py",
   "mimetype": "text/x-python",
   "name": "python",
   "nbconvert_exporter": "python",
   "pygments_lexer": "ipython3",
   "version": "3.7.4"
  },
  "toc": {
   "base_numbering": 1,
   "nav_menu": {},
   "number_sections": true,
   "sideBar": true,
   "skip_h1_title": false,
   "title_cell": "Table of Contents",
   "title_sidebar": "Contents",
   "toc_cell": false,
   "toc_position": {},
   "toc_section_display": true,
   "toc_window_display": false
  }
 },
 "nbformat": 4,
 "nbformat_minor": 2
}
